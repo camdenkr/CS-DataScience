{
 "cells": [
  {
   "cell_type": "markdown",
   "id": "29dbb74b",
   "metadata": {},
   "source": [
    "# CS 506 Spring 2021 - HW3\n",
    "## Social Networks and Recommendataion Systems\n",
    "#### Total: 25 Points\n",
    "\n",
    "##### Package Limitations: None\n",
    "\n",
    "### Name: Camden Kronhaus\n",
    "### BU ID: U79620042\n",
    "### BU Email: kronhaus@bu.edu\n",
    "#### People you worked with on this hw: None\n",
    "\n",
    "### 1. Background\n",
    "\n",
    "In this homework, you will try to recommend new collaborations to researchers of the Machine Learning community. Our approach will follow the guidelines of collaborative filtering: “**If your past behavior/preferences were similar to some other user’s, your future behavior may be as well**”. As an example, imagine you like Rolling Stones, Beatles and Jimmy Hendrix. It turns out that most people that like the aforementioned artists, are also fans of Eric Clapton. Then, it is very likely that if you listen to Eric Clapton’s music, you will like it as well.\n",
    "\n",
    "In this assignment you will implement a **collaborative filtering recommendation system** for suggesting new collaborations to Machine Learning researchers.\n",
    "\n",
    "**A network as a graph**: A graph or network represents relationships among different entities (users of a social network, researchers, products, etc.). Those entities are represented as nodes and the relationships between them (friends on Facebook, co-authors of a research paper, products purchased together) as edges. When there is an edge between two nodes, x and y, we say that y is a neighbor (or friend) of x (and also - as the graphs we consider are undirected - x is also a neighbor of y).\n",
    "\n",
    "**Representing a graph in Python**: A widely used library in Python, for representing graphs is [NetworkX](https://networkx.github.io/documentation/stable/). You can read the documentation for more information on how to use this library."
   ]
  },
  {
   "cell_type": "markdown",
   "id": "b99c8f6e",
   "metadata": {},
   "source": [
    "### 2. Recommend new collaborations - The ML Community case \n",
    "\n",
    "In order to provide new collaborations and test the efficiency of the methods used, you are given two files (you can find them on piazza):\n",
    "\n",
    "- ”old edges.txt”: In this file, every line contains the names of two re- searchers that have co-authored a paper in one of the top Machine Learn- ing conferences (NeurIPS, ICLR, ICML) between 2010 and 2016.\n",
    "- ”new edges.txt”: In this file, every line contains the names of two re- searchers (from those existing in the above file) that formed a new (non- existing before) collaboration, in either 2017 and 2018.\n",
    "\n",
    "With the first file in hand, you will answer the following question:\n",
    "“For author X, list some non-collaborators in order, starting with the best col- laborator recommendation and ending with the worst”. A non-friend is a user who is not X and is not a collaborator of X. Depending on the recommendation algorithm you are going to choose, the list may include all non-collaborators or some of them.\n",
    "\n",
    "Then, using the second file, with actual new collaborations formed in the next 3 years, you will test the efficiency of these algorithms.\n"
   ]
  },
  {
   "cell_type": "markdown",
   "id": "aba1cc9d",
   "metadata": {},
   "source": [
    "### Tasks\n",
    "a) [3 pts.] Write a function that reads the file “old edges.txt” and create a graph using NetworkX. (This is a tab-separated value (TSV) file, you may use packages such as Pandas to read it. )\n"
   ]
  },
  {
   "cell_type": "code",
   "execution_count": 1,
   "id": "8a496fac",
   "metadata": {},
   "outputs": [],
   "source": [
    "# You can add functions, inputs outputs to existing functions. \n",
    "# Please do NOT change name of the existing functions\n",
    "\n",
    "from typing import Tuple, List, Dict, Callable\n",
    "import networkx as nx\n",
    "\n",
    "def read_old_edges(file_path: str) -> nx.Graph:\n",
    "    \"\"\"\n",
    "    read old edges text file and return a NetworkX graph\n",
    "    \n",
    "    :param file_path: string file path to old_edges.txt\n",
    "    :return: network graph instance of the graph\n",
    "    \"\"\"\n",
    "    \n",
    "    return nx.read_edgelist(file_path, delimiter='\\t', nodetype=str)"
   ]
  },
  {
   "cell_type": "markdown",
   "id": "1b6c0d09",
   "metadata": {},
   "source": [
    "b) [3 pts.] Write a function that reads the file “new edges.txt” and for each author, keeps track of the new collaborations this user formed during 2017-2018.\n"
   ]
  },
  {
   "cell_type": "code",
   "execution_count": 2,
   "id": "31104b22",
   "metadata": {},
   "outputs": [],
   "source": [
    "def read_new_edges(file_path: str):\n",
    "    \"\"\"\n",
    "    read new edges text file and for each author, keeps track of the new collaborations this user formed during.\n",
    "    \n",
    "    :param file_path: string file path to new_edges.txt\n",
    "    :return: network graph of new edges between nodes\n",
    "    \"\"\"\n",
    "\n",
    "\n",
    "    return nx.read_edgelist(file_path, delimiter='\\t', nodetype=str)"
   ]
  },
  {
   "cell_type": "code",
   "execution_count": null,
   "id": "5ae470f4",
   "metadata": {},
   "outputs": [],
   "source": [
    "# G = read_old_edges('./old_edges.txt')\n",
    "# G = read_new_edges('./new_edges.txt')"
   ]
  },
  {
   "cell_type": "markdown",
   "id": "ddf64a48",
   "metadata": {},
   "source": [
    "In 2017 and 2018, there were 1,757 new edges formed between existing authors. For the next tasks, pick (and recommend new collaborations for) those authors that formed at least 10 new connections between 2017-2018. In the remaining, when we talk about author X, we refer to one of those authors.\n",
    "\n",
    "c) [5 pts.] **Recommend by number of common friends**\n",
    "\n",
    "The intuition behind this recommendation algorithm is that if non-friend Y is your friend’s friend, then maybe Y should be your friend too. If person Y is the friend of many of your friends, then Y is an even better recommendation. "
   ]
  },
  {
   "cell_type": "code",
   "execution_count": 3,
   "id": "df0999f9",
   "metadata": {},
   "outputs": [],
   "source": [
    "def common_friends_number(graph: nx.Graph, author) -> List[str]:\n",
    "    \"\"\"\n",
    "    Return list of authors who have a common neighbor as \n",
    "    given author sorted by number of common friends. \n",
    "    \n",
    "    :param graph: collaboration graph in nextworkX\n",
    "    :return: list of new collaborators' name to recommend\n",
    "    \"\"\"\n",
    "    recs = {}\n",
    "    friends = dict.fromkeys(list(graph.neighbors(author)), 1) # Friends of author, make dictionary for faster lookup\n",
    "    friends[author] = 1 # Add author to list of friends to prevent themself from being added\n",
    "    for friend in friends:\n",
    "        mutuals = list(graph.neighbors(friend))\n",
    "        for mutual in mutuals:\n",
    "            if (not mutual in friends): # If a mutual is not already a friend, add it, else ignore\n",
    "                # If alreaday in dict, increase value, otherwise add as new rec with 1\n",
    "                if(recs.get(mutual) == None):\n",
    "                    recs[mutual] = 1\n",
    "                else:\n",
    "                    recs[mutual] += 1\n",
    "    return sorted(recs, key=recs.get, reverse=True)\n",
    "    "
   ]
  },
  {
   "cell_type": "code",
   "execution_count": 7,
   "id": "965b72cb",
   "metadata": {},
   "outputs": [
    {
     "data": {
      "text/plain": [
       "['Holger Hoos',\n",
       " 'Kevin Leyton-Brown',\n",
       " 'Alexey Dosovitskiy',\n",
       " 'Joschka Boedecker',\n",
       " 'Martin A. Riedmiller',\n",
       " 'Thomas Brox',\n",
       " 'Manuel Watter']"
      ]
     },
     "execution_count": 7,
     "metadata": {},
     "output_type": "execute_result"
    }
   ],
   "source": [
    "common_friends_number(graph=read_old_edges('./old_edges.txt'), author=\"Adarsh Prasad\")"
   ]
  },
  {
   "cell_type": "markdown",
   "id": "1b45f70d",
   "metadata": {},
   "source": [
    "d) [5 pts.] **Make recommendations using Jaccard’s Index**\n",
    "\n",
    "If Γ(X) is the set of neighbors of X, then the metric we used in part (c), assigns to a non-friend y, the following recommendation score (with respect to X): score(y) = |Γ(X)∩Γ(y)|. Jaccard’s Index scales this score by taking into account the union of X and Y ’s neighbors. Intuitively, X and Y are more similar, if what they have in common is as close as possible to what they have together.\n"
   ]
  },
  {
   "cell_type": "code",
   "execution_count": 4,
   "id": "c9085833",
   "metadata": {},
   "outputs": [],
   "source": [
    "def jaccard_index(graph: nx.Graph, author) -> List[str]:\n",
    "    \"\"\"\n",
    "    Return list of authors who have a common neighbor as \n",
    "    given author sorted by Jaccard Index (see pdf for equation) \n",
    "    \n",
    "    :param graph: collaboration graph in nextworkX\n",
    "    :return: list of new collaborators' name to recommend\n",
    "    \"\"\"\n",
    "    recs = {}\n",
    "    num_friends = len(list(graph.neighbors(author)))\n",
    "    friends = dict.fromkeys(list(graph.neighbors(author)), 1) # Friends of author, make dictionary for faster lookup\n",
    "    friends[author] = 1 # Add author to list of friends to prevent themself from being added\n",
    "    for friend in friends:\n",
    "        mutuals = list(graph.neighbors(friend))\n",
    "        for mutual in mutuals:\n",
    "            if (not mutual in friends): # If a mutual is not already a friend, add it, else ignore\n",
    "                # If alreaday in dict, increase value, otherwise add as new rec with 1\n",
    "                if(recs.get(mutual) == None):\n",
    "                    recs[mutual] = 1\n",
    "                else:\n",
    "                    recs[mutual] += 1\n",
    "    # Divide each score gathered by the total number of friends of X and y, minus the mutuals\n",
    "    for rec in recs:\n",
    "        score = recs.get(rec)\n",
    "        score /= (num_friends + len(list(graph.neighbors(rec))) - recs.get(rec))\n",
    "        recs[rec] = score\n",
    "\n",
    "    \n",
    "    # Ties are arbitrarily broken by first 10 of Timsort\n",
    "    return sorted(recs, key=recs.get, reverse=True)\n",
    "    "
   ]
  },
  {
   "cell_type": "code",
   "execution_count": null,
   "id": "fa2f7708",
   "metadata": {},
   "outputs": [],
   "source": [
    "jaccard_index(graph=read_old_edges('./old_edges.txt'), author=\"Andrew C. Miller\")"
   ]
  },
  {
   "cell_type": "markdown",
   "id": "fe581fd8",
   "metadata": {},
   "source": [
    "e)  [5 pts.] **Make recommendations using Adamic/Adar Index**\n",
    "\n",
    "For part (c), we made recommendations using common neighbors. However, when assigning a score to Y , instead of just taking a count of the number of common neighbors, we take a weighted sum of them, where the weight of each common neighbor of X and Y , call her Z, is the inverse of the logarithm of the number of Z’s neighbors. In that way, we value more common neighbors that are more selective."
   ]
  },
  {
   "cell_type": "code",
   "execution_count": 5,
   "id": "0619deba",
   "metadata": {},
   "outputs": [],
   "source": [
    "from math import log\n",
    "def adamic_adar_index(graph: nx.Graph, author) -> List[str]:\n",
    "    \"\"\"\n",
    "    Return list of recommendations of a given author sorted \n",
    "    by Adamic / Adar Index (see pdf for equation) \n",
    "    \n",
    "    :param graph: collaboration graph in nextworkX\n",
    "    :return: list of new collaborators' name to recommend\n",
    "    \"\"\"\n",
    "    recs = {}\n",
    "    num_friends = len(list(graph.neighbors(author)))\n",
    "    friends = dict.fromkeys(list(graph.neighbors(author)), 1) # Friends of author, make dictionary for faster lookup\n",
    "    friends[author] = 1 # Add author to list of friends to prevent themself from being added\n",
    "    for friend in friends:\n",
    "        mutuals = list(graph.neighbors(friend))\n",
    "        for mutual in mutuals:\n",
    "            if (not mutual in friends): # If a mutual is not already a friend, add it, else ignore\n",
    "                if(recs.get(mutual) == None):\n",
    "                    recs[mutual] = 1 / log(len(mutuals))\n",
    "                else:\n",
    "                    recs[mutual] += 1 / log(len(mutuals))\n",
    "\n",
    "    return sorted(recs, key=recs.get, reverse=True)\n",
    "    "
   ]
  },
  {
   "cell_type": "code",
   "execution_count": null,
   "id": "f871e366",
   "metadata": {},
   "outputs": [],
   "source": [
    "adamic_adar_index(graph=read_old_edges('./old_edges.txt'), author=\"Andrew C. Miller\")"
   ]
  },
  {
   "cell_type": "markdown",
   "id": "3bae7a98",
   "metadata": {},
   "source": [
    "f) [4 pts.] **How good are the recommendations we make?** \n",
    "\n",
    "Previously, you implemented 3 functions, that given a user X provide recommendations for this user. In this task, you will check how good these recommendations are using the actual new connections formed during 2017-2018.\n",
    "\n",
    "You will use two different ways, to calculate the efficiency of every approach:\n",
    "\n",
    "- For each user X, take the 10 first recommendations for this user, and calculate the number of them that were actually formed during 2017-2018. You should report the average among users X.\n",
    "\n",
    "- For each newly formed collaboration of user X, calculate the rank of this collaboration (the index where this new node Y appears in the recommendations list for X). Report the average among newly formed edges."
   ]
  },
  {
   "cell_type": "code",
   "execution_count": 6,
   "id": "687c4e36",
   "metadata": {},
   "outputs": [],
   "source": [
    "def list_popular() -> List:\n",
    "    '''\n",
    "    Returns a list of authors who made at least 10 new connections (have 10 edges in new_edges.txt)\n",
    "    '''\n",
    "    G = read_new_edges('./new_edges.txt')\n",
    "    authors = []\n",
    "    for author in list(G.nodes()):\n",
    "        if len(G.edges(author)) >= 10:\n",
    "            authors.append(author)\n",
    "    \n",
    "\n",
    "    return authors"
   ]
  },
  {
   "cell_type": "code",
   "execution_count": 7,
   "id": "36283e5f",
   "metadata": {},
   "outputs": [],
   "source": [
    "populars = list_popular()"
   ]
  },
  {
   "cell_type": "code",
   "execution_count": 22,
   "id": "1f03a262",
   "metadata": {},
   "outputs": [],
   "source": [
    "def top_k_recommendation_accuracy(graph: nx.Graph, index_method: Callable, new_graph: nx.Graph) -> float:\n",
    "    \"\"\"\n",
    "    Among top k recommendations of every user, return average number \n",
    "    of recommendations that becomes reality\n",
    "    \n",
    "    :param graph: old_edges graph in nextworkX\n",
    "    :param index_method: function that is used to make recommendation\n",
    "    :param new_graph: new_edges graph in nextworkX\n",
    "    :return: average accuracy of predictions among all users\n",
    "    \"\"\"\n",
    "    k = 10\n",
    "    authors = list_popular()\n",
    "    avg = 0 # Average accuracy across all authors\n",
    "    # Calculate a accuracy for each author and maintain an average\n",
    "    for author in authors:\n",
    "        correct = 0 # Keeps track of how many of the top 10 recs are correct\n",
    "        recs = index_method(graph=graph, author=author)[0:k] # Top 10 recs\n",
    "        true = list(new_graph.neighbors(author)) # New friends actually formed\n",
    "        # If a recommended author is in the true neighbors formed, increment correct\n",
    "        for rec in recs:\n",
    "            if (rec in true):\n",
    "                correct += 1\n",
    "        avg += correct / k\n",
    "\n",
    "\n",
    "    return avg / len(authors)\n",
    "    \n",
    "    \n",
    "def new_collaboration_rank(graph: nx.Graph, index_method: Callable, new_graph: nx.Graph) -> float:\n",
    "    \"\"\"\n",
    "    Among the new collaborations of every user, return average rank \n",
    "    of the collaboration calculated by the function\n",
    "\n",
    "    If not in the list of reccomendations, rank is set to the next \"open\" rank\n",
    "    \n",
    "    :param graph: collaboration graph in nextworkX\n",
    "    :param index_method: function that is used to make recommendation\n",
    "    :param new_graph: new_edges graph in nextworkX\n",
    "    :return: average rank of predictions among all users\n",
    "    \"\"\"\n",
    "    avg_total = 0 # Average rank among all authors\n",
    "    authors = list_popular()\n",
    "    for author in authors:\n",
    "        recs = index_method(graph=graph, author=author)\n",
    "        true = list(new_graph.neighbors(author)) # New friends actually formed\n",
    "        avg_rank = 0 # Average rank for a given author\n",
    "        rank_adder = len(recs) # Allows \"appending\" of rank        \n",
    "        for friend in true:\n",
    "            if (friend in recs):\n",
    "                rank = recs.index(friend)\n",
    "            else:\n",
    "                rank = rank_adder\n",
    "            rank_adder += 1\n",
    "            avg_rank += rank\n",
    "        avg_rank /= len(true)\n",
    "        avg_total += avg_rank\n",
    "\n",
    "\n",
    "    return avg_total / len(authors)"
   ]
  },
  {
   "cell_type": "code",
   "execution_count": 18,
   "id": "cfc97fca",
   "metadata": {},
   "outputs": [
    {
     "name": "stdout",
     "output_type": "stream",
     "text": [
      "0.11463414634146338\n",
      "0.08048780487804878\n",
      "0.10000000000000002\n"
     ]
    }
   ],
   "source": [
    "print(top_k_recommendation_accuracy(graph = read_old_edges('./old_edges.txt'), index_method = common_friends_number, new_graph=read_new_edges('./new_edges.txt')))\n",
    "print(top_k_recommendation_accuracy(graph = read_old_edges('./old_edges.txt'), index_method = jaccard_index, new_graph=read_new_edges('./new_edges.txt')))\n",
    "print(top_k_recommendation_accuracy(graph = read_old_edges('./old_edges.txt'), index_method = adamic_adar_index, new_graph=read_new_edges('./new_edges.txt')))\n"
   ]
  },
  {
   "cell_type": "code",
   "execution_count": 24,
   "id": "f4b11a6d",
   "metadata": {},
   "outputs": [
    {
     "name": "stdout",
     "output_type": "stream",
     "text": [
      "83.08663740338268\n",
      "87.71145227830893\n",
      "85.38917878647678\n"
     ]
    }
   ],
   "source": [
    "print(new_collaboration_rank(graph = read_old_edges('./old_edges.txt'), index_method = common_friends_number, new_graph=read_new_edges('./new_edges.txt')))\n",
    "print(new_collaboration_rank(graph = read_old_edges('./old_edges.txt'), index_method = jaccard_index, new_graph=read_new_edges('./new_edges.txt')))\n",
    "print(new_collaboration_rank(graph = read_old_edges('./old_edges.txt'), index_method = adamic_adar_index, new_graph=read_new_edges('./new_edges.txt')))"
   ]
  },
  {
   "cell_type": "markdown",
   "id": "bc1d3ddf",
   "metadata": {},
   "source": [
    "e) [**Bonus Question**] [2 pts.]\n",
    "Doing some literature search, suggest your own algorithm for recommend- ing new links to a user X. Argue about the choice you make, why it makes sense to suggest users that way? How is the efficiency of this algorithm, compared to the ones you implemented in parts (c), (d) and (e)?"
   ]
  },
  {
   "cell_type": "markdown",
   "id": "01e3dca8",
   "metadata": {},
   "source": [
    "The complexity of each of the proposed algorithms is something in the neighborhood of O(N^3) if N = # number of nodes, given that for each X, you have to iterate through each friend of X's friends and friend of each mutual friend of X.\n",
    "\n",
    "For a better algorithm, one might include a score that involves duplicate edges that are filtered out in the above algorithms. If author X and friend Z collaborated on multiple papers together, then mutual friends y may have a higher liklehood of working with X. This wouldn't introduce much complexity at all and could be used in conjuction with the scores presented in the previous algorithms.\n",
    "\n",
    "Another aspect that could be involved is mutual friends of mutual friends. If author X has mutual friend y through Z, and friend y is also friends with the friend of another Z, then that can be value added to the score. This could be introduced with however many levels deep the developer wants to go, although introducing exponential complexity with each added level. Most likely this should also be added to the score in a inverted relation with the amount of levels deeper one goes such as. After some literature resarrch, this seems to be along the lines of the P-rank formula which is off the same complexity of SimRank which appearrs to be more or less the formula used in part c. \n",
    "\n",
    "A third aspect that could be invovled is adding directionality to the graph. By making the graph directed, we could diffrentiate between X working with Z and Z working with X. The difference would lie, if the data provided were provided as such, by who \"initiates\" the collaboration. If X \"recruits\" Z to work with them, they are more likely to be the ones to collaborate with friends of Z, y, then friends of another Z who chose to be the ones to collaborate with X. his could simply be incorporated by adding a multipler > 1 to the score added from X working with Z vs Z working with X. This aspect of the score would be contigent on the data being provided as such, so it may not be possible to incorporate depending on how the data is represented. This wouldn't technically add any efficieny problems, since at worst it doubles the size of N from using an undirected graph.\n",
    "\n",
    "We could also scale the score of each non-friend y by the number of friends they have, somewhat utilizing intuition behind the Google's PageRank algorithm. For a given non-friend y, there score may be scaled by the number of friends they have. Intuitively, if a non-friend y has many friends, they may be considered more important and therefore more likely to eventually work with author X. Again, this does not add much complexity or inefficiencies to the already existing metrics being used in previous problems."
   ]
  }
 ],
 "metadata": {
  "kernelspec": {
   "display_name": "Python 3",
   "language": "python",
   "name": "python3"
  },
  "language_info": {
   "codemirror_mode": {
    "name": "ipython",
    "version": 3
   },
   "file_extension": ".py",
   "mimetype": "text/x-python",
   "name": "python",
   "nbconvert_exporter": "python",
   "pygments_lexer": "ipython3",
   "version": "3.9.7"
  }
 },
 "nbformat": 4,
 "nbformat_minor": 5
}
