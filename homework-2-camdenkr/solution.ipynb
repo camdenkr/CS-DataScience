{
 "cells": [
  {
   "cell_type": "markdown",
   "id": "23b5a238",
   "metadata": {},
   "source": [
    "## CS 506 Spring 2021 - HW2 \n",
    "### Classification and Dimensionality Reduction (Total: 32 points)\n",
    "#### Package Limitations: None\n",
    "\n",
    "#### Name: Camden Kronhaus\n",
    "#### BU ID: U79620042\n",
    "#### BU Email: kronhaus@bu.edu\n",
    "\n",
    "#### People you consulted working on this hw: None\n",
    "\n",
    "\n",
    "\n"
   ]
  },
  {
   "cell_type": "markdown",
   "id": "730641ac",
   "metadata": {},
   "source": [
    "### 1. Least Squares and Logistic Regression\n",
    "\n",
    "In this section, we are going to compare two linear models for classification, especially when outliers are presented in the data. Please refer to Section 4.1.3 at Page 184 of the book [Pattern Recognition and Machine Learning](http://users.isr.ist.utl.pt/~wurmd/Livros/school/Bishop%20-%20Pattern%20Recognition%20And%20Machine%20Learning%20-%20Springer%20%202006.pdf) for the context of this problem as well as the explanation of Figure1\n",
    "\n",
    "Figure 1: The comparison of least square and logistic regression in classification of two classes with/without outliers\n",
    "\n",
    "![Figure 1](figure_1.png \"some titile\")\n",
    "\n",
    "a) \\[1 pt.\\] Generate labeled random 2D points like the ones shown in the left subfigure of Figure1. Note that the red crosses and blue circles are points of different classes, so you may need to have a third column storing the label info of the 2D points. Let’s call this data “data without outlier”. Now on top of this data, add a few outliers to the blue circles just like the right subfigure of Figure1 and save the data as “data with outlier”. You may either use code or even manually choose some random 2D points. Your data need not to be exactly the same as the ones shown on the plots."
   ]
  },
  {
   "cell_type": "code",
   "execution_count": 92,
   "id": "c9dfe79f",
   "metadata": {},
   "outputs": [],
   "source": [
    "# feel free to write more helper function, but do NOT change the name of the provided function(s). \n",
    "# you may modify inputs and outputs of provided functions. If you do, make sure to indicate\n",
    "# what the they are in the function docstring. This applies to every cells below\n",
    "\n",
    "\n",
    "from typing import List, Dict, Tuple\n",
    "import numpy as np\n",
    "import matplotlib.pyplot as plt\n",
    "import pandas as pd\n",
    "\n",
    "\n",
    "def plot_random_points(data, withoutlier: bool):\n",
    "    \"\"\"\n",
    "    Plot data from generate_random_points(). Assumes classification and correct ordering of data\n",
    "    \n",
    "    :param data: data returned from generate_random_points()\n",
    "    :param with_outlier: whether outlier is generated with the data points\n",
    "    :return: \n",
    "    \"\"\"\n",
    "    # Plot to ensure data similarity\n",
    "    x1 = data[0].iloc[0:50]\n",
    "    x2 = data[0].iloc[51:100]\n",
    "    y1 = data[1].iloc[0:50]\n",
    "    y2 = data[1].iloc[51:100]\n",
    "\n",
    "    plt.scatter(x1, y1, color=\"red\", marker=\"x\")\n",
    "    plt.scatter(x2, y2, color=\"blue\", marker=\"o\", facecolors='none')\n",
    "    if(withoutlier):\n",
    "        x3 = data[0].iloc[101:110]\n",
    "        y3 = data[1].iloc[101:110]\n",
    "        plt.scatter(x3, y3, color=\"blue\", marker=\"o\", facecolors='none')\n",
    "    # Scale axes correctly\n",
    "    plt.xlim(-4,10)\n",
    "    plt.ylim(-9,4)\n",
    "\n",
    "    plt.show()\n",
    "\n",
    "\n",
    "    return\n",
    "\n",
    "def generate_random_points(with_outlier: bool):\n",
    "    \"\"\"\n",
    "    Generate a few random points and return such dataset\n",
    "    \n",
    "    :param with_outlier: whether outlier is generated with the data points\n",
    "    :return: dataset object (type of your choice)\n",
    "    \"\"\"\n",
    "    # Generate gaussian normal distribution of points for clusters\n",
    "    n_points = 50 # Number of points to geneerate in each cluster\n",
    "    np.random.seed(0) # Set seed\n",
    "    # x1, x2, x3, y1, y2, y3, x and values for different sets of points, after this ptoblem no ys are used\n",
    "    x1 = np.random.normal(loc=-2, scale=.7, size = n_points)\n",
    "    y1 = np.random.normal(loc= 2, scale=.7, size = n_points)\n",
    "    x2 = np.random.normal(loc= 2, scale=.7, size = n_points)\n",
    "    y2 = np.random.normal(loc= -1, scale=.7, size = n_points)\n",
    "\n",
    "\n",
    "    # Concatenate data points for one 2D matrix\n",
    "    data = np.concatenate((np.array(list(zip(x1,y1))),np.array(list(zip(x2,y2)))),axis=0)\n",
    "    #Generate labels\n",
    "    labels = np.concatenate((np.ones(n_points), np.ones(n_points)*-1))\n",
    "\n",
    "    # Add outlier data if necessary\n",
    "    if (with_outlier):\n",
    "        n_outliers = 10 # number outliter points to generate\n",
    "        x3 = np.random.normal(loc=9, scale=.5, size = n_outliers) \n",
    "        y3 = np.random.normal(loc=-6, scale=.5, size = n_outliers)\n",
    "\n",
    "        #Add additional point belonging to class 1/blue class\n",
    "        labels = np.concatenate((labels, np.ones(n_outliers)*-1))\n",
    "        #Add to make \"data_with_outliers\"\n",
    "        data = np.concatenate((data,np.array(list(zip(x3,y3)))),axis=0)\n",
    "\n",
    "    data = np.column_stack((data,labels))\n",
    "    data = pd.DataFrame(data)\n",
    "    return data"
   ]
  },
  {
   "cell_type": "code",
   "execution_count": 93,
   "id": "350f1b21",
   "metadata": {},
   "outputs": [
    {
     "data": {
      "image/png": "[encoded data removed]",
      "text/plain": [
       "<Figure size 432x288 with 1 Axes>"
      ]
     },
     "metadata": {
      "needs_background": "light"
     },
     "output_type": "display_data"
    },
    {
     "data": {
      "image/png": "[encoded data removed]",
      "text/plain": [
       "<Figure size 432x288 with 1 Axes>"
      ]
     },
     "metadata": {
      "needs_background": "light"
     },
     "output_type": "display_data"
    }
   ],
   "source": [
    "# Do some test print outs to verify correctness\n",
    "data = generate_random_points(with_outlier=False)\n",
    "plot_random_points(data, withoutlier=False)\n",
    "data = generate_random_points(with_outlier=True)\n",
    "plot_random_points(data, withoutlier=True)"
   ]
  },
  {
   "cell_type": "markdown",
   "id": "e7e0bddd",
   "metadata": {},
   "source": [
    "b) \\[4 pts.\\] Use both the least squares method and the logistic regression method to classify the “data without outlier” and “data with outlier”."
   ]
  },
  {
   "cell_type": "code",
   "execution_count": 94,
   "id": "f5869606",
   "metadata": {},
   "outputs": [],
   "source": [
    "from sklearn.linear_model import LinearRegression\n",
    "from sklearn.linear_model import LogisticRegression\n",
    "def least_squares_classify(dataset):\n",
    "    \"\"\"\n",
    "    Classifying dataset with least squares method\n",
    "    \n",
    "    :param dataset: the dataset object to classify\n",
    "    :return: predicted labels\n",
    "    \"\"\"\n",
    "    # Extract X\n",
    "    X = np.column_stack((dataset[0],dataset[1])) # Combine dimensions into one X matrix\n",
    "    y = dataset[2] # True labels for data\n",
    "    \n",
    "    # Account for bias term\n",
    "    m = X.shape[0]\n",
    "    X = np.array([np.ones(m), X[:, 0], X[:, 1]]).T \n",
    "\n",
    "    # Classify using linear regression/OLS\n",
    "    reg = LinearRegression().fit(X, y)\n",
    "    Y = reg.predict(X) # Predicted lables\n",
    "\n",
    "    return Y\n",
    "\n",
    "def logistic_regression_classify(dataset):\n",
    "    '''\n",
    "    Classifying dataset with logistic regression\n",
    "    \n",
    "    :param dataset: the dataset object to classify\n",
    "    :return: predicted labels\n",
    "    '''\n",
    "   # Extract X\n",
    "    X = np.column_stack((dataset[0],dataset[1])) # Combine dimensions into one X matrix\n",
    "    y = dataset[2] # True labels for data\n",
    "\n",
    "    # Classify\n",
    "    reg = LogisticRegression().fit(X, y)\n",
    "    Y = reg.predict(X) # Predicted lables\n",
    "    # Make outputs discrete\n",
    "\n",
    "    return Y\n",
    "\n"
   ]
  },
  {
   "cell_type": "code",
   "execution_count": 95,
   "id": "079a6001",
   "metadata": {},
   "outputs": [],
   "source": [
    "# Classify data with and without outlier here \n",
    "dataset = generate_random_points(with_outlier=False)\n",
    "Y_LS = least_squares_classify(dataset)\n",
    "Y_LR = least_squares_classify(dataset)\n",
    "data = generate_random_points(with_outlier=True)\n",
    "Y_LS_outliers = logistic_regression_classify(dataset)\n",
    "Y_LR_outliers = logistic_regression_classify(dataset)"
   ]
  },
  {
   "cell_type": "markdown",
   "id": "ff6a30ee",
   "metadata": {},
   "source": [
    "c) \\[2 pts.\\] Plot the classification results into two figures side by side just like Figure1. Have you got similar results like Figure1? Explain briefly why the logistic regression is not sensitive to outliers."
   ]
  },
  {
   "cell_type": "code",
   "execution_count": 96,
   "id": "54918a47",
   "metadata": {},
   "outputs": [],
   "source": [
    "from sklearn.linear_model import LinearRegression\n",
    "from sklearn.linear_model import LogisticRegression\n",
    "import matplotlib.pyplot as plt\n",
    "from matplotlib.colors import ListedColormap\n",
    "from matplotlib.pyplot import figure\n",
    "def plot_classification_results(dataset):\n",
    "    \"\"\"\n",
    "    Plot classification results of data with outlier and data without outlier - note results are the same so although logistic regression\n",
    "    overrides linear regression results, the plot is the same had they been done separately\n",
    "    \n",
    "    :param dataset: mnist dataset as np array\n",
    "    :return: \n",
    "    \"\"\"\n",
    "\n",
    "    # Reclassify using both methods - need classifier parameters to plot lines, I decided no to pass in all the necessary variables\n",
    "    X = np.column_stack((dataset[0],dataset[1])) # Combine dimensions into one X matrix\n",
    "    y = dataset[2] # True labels for data\n",
    "    \n",
    "    # Account for bias term\n",
    "    m = X.shape[0]\n",
    "    X_ls = np.array([np.ones(m), X[:, 0], X[:, 1]]).T \n",
    "\n",
    "    # Classify using linear regression/OLS\n",
    "    reg_ls = LinearRegression().fit(X_ls, y)\n",
    "    Y_ls = reg_ls.predict(X_ls) # Predicted lables for least squares/linear regression\n",
    "    \n",
    "    # Make labels discrete\n",
    "    Y_ls[Y_ls>=0] = 1\n",
    "    Y_ls[Y_ls<0] = -1\n",
    "\n",
    "    # Classify using Logistic Regression\n",
    "    reg_lr = LogisticRegression().fit(X, y)\n",
    "    Y_lr = reg_lr.predict(X) # Predicted lables\n",
    "\n",
    "    # Plot results with decision boundaries\n",
    "    # figure(figsize=(12, 6))\n",
    "    xmin, xmax = -4, 10\n",
    "    ymin, ymax = -9, 4\n",
    "    plt.xlim(xmin,xmax)\n",
    "    plt.ylim(ymin,ymax)\n",
    "    colors = [\"blue\", \"red\"]\n",
    "    \n",
    "    # Plot Dataset Classified with Liner Regression\n",
    "    plt.scatter(X[:,0], X[:,1], c=Y_ls, cmap=ListedColormap(colors))\n",
    "    # Plot Line\n",
    "    xplot = np.linspace(xmin, xmax, m)\n",
    "    yestplot = -reg_ls.coef_[0] / reg_ls.coef_[2] - (reg_ls.coef_[1] / reg_ls.coef_[2]) * xplot\n",
    "    plt.plot(xplot, yestplot, color=\"magenta\", lw=1, ls='--')\n",
    "    plt.xlabel('x1')\n",
    "    plt.ylabel('x2')\n",
    "\n",
    "    # Plot classified dataset with Logistic Regression\n",
    "    plt.scatter(X[:,0], X[:,1], c=Y_lr, cmap=ListedColormap(colors))\n",
    "    \n",
    "    # Plot line\n",
    "    # Help for this plotting came from: https://tinyurl.com/yfabs2dn\n",
    "    b = reg_lr.intercept_[0]\n",
    "    w1, w2 = reg_lr.coef_.T\n",
    "    # Calculate the intercept and gradient of the decision boundary.\n",
    "    c = -b/w2\n",
    "    m = -w1/w2\n",
    "\n",
    "    # Plot the data and the classification with the decision boundary.\n",
    "    xmin, xmax = -4, 10\n",
    "    ymin, ymax = -9, 4\n",
    "    plt.xlim(xmin,xmax)\n",
    "    plt.ylim(ymin,ymax)\n",
    "    xplot = np.array([xmin, xmax])\n",
    "    yplot = m*xplot + c\n",
    "    plt.plot(xplot, yplot, color='green', lw=1, ls='--')\n",
    "    plt.show()\n",
    "\n",
    "    return"
   ]
  },
  {
   "cell_type": "code",
   "execution_count": 97,
   "id": "9a667161",
   "metadata": {},
   "outputs": [
    {
     "data": {
      "image/png": "[encoded data removed]",
      "text/plain": [
       "<Figure size 432x288 with 1 Axes>"
      ]
     },
     "metadata": {
      "needs_background": "light"
     },
     "output_type": "display_data"
    },
    {
     "data": {
      "image/png": "[encoded data removed]",
      "text/plain": [
       "<Figure size 432x288 with 1 Axes>"
      ]
     },
     "metadata": {
      "needs_background": "light"
     },
     "output_type": "display_data"
    }
   ],
   "source": [
    "# Please note that the classification results that show the decision boundaries are in fact only technically for logistic regression as the classfication\n",
    "# is overridden, but since the results are the same, the plots would be the same regardless\n",
    "plot_classification_results(generate_random_points(with_outlier=False))\n",
    "plot_classification_results(generate_random_points(with_outlier=True))"
   ]
  },
  {
   "cell_type": "markdown",
   "metadata": {},
   "source": [
    "### 1c - Explain briefly why the logistic regression is not sensitive to outliers.\n",
    "The results above are quite similar to the original figure, in the same way as the original figure, the least squares model is more affected.\n",
    "\n",
    "As in the original figures, logistic regression is not as susceptible to outliers because it uses a sigmoud function for classifying pointss, which is asymptotic between 1 and 0, therefore extreme values have less impact since linear regression tries to fit a line across all the points."
   ]
  },
  {
   "cell_type": "markdown",
   "id": "749419db",
   "metadata": {},
   "source": [
    "### 2 Logistic Regression and kNN Classification\n",
    "\n",
    "The goal of this problem is to perform classification on the famous MNIST dataset.\n",
    "\n",
    "We have already preprocessed a sample of this dataset (30% of the original dataset), that you can find here: [Download from Google Drive](https://drive.google.com/open?id=1phX7-hv5FNye7mPzddr1oplZIhAgmycz) in the format of NumPy arrays.\n",
    "\n",
    "File mnist data.npy contains an array of the data -each row corresponds to a 28 × 28 digit picture vectorized to create 28*28=784 features, while the file mnist labels.npy contains the respective labels of the images.\n",
    "\n",
    "a) \\[0 pts.\\] Randomly split the dataset, using 20% of the samples as your test set and the remaining 80% as the train set that you will use to fit your models."
   ]
  },
  {
   "cell_type": "code",
   "execution_count": 98,
   "id": "be80d1d1",
   "metadata": {},
   "outputs": [],
   "source": [
    "import numpy as np\n",
    "from sklearn.model_selection import train_test_split\n",
    "\n",
    "'''\n",
    "Take numpy representation off MNIST dataset and labels and split into training and test set\n",
    ":param X: MNIST dataset\n",
    ":return: Train/Test splits of MNIST dataset\n",
    "'''\n",
    "def split_mnist_data(X: np.array) -> Tuple[np.array, np.array, np.array, np.array]:\n",
    "    #Split dataset\n",
    "\n",
    "    y = X[:, -1] #grab class labels\n",
    "    X = np.delete(X, -1, axis=1) #Remove labels column from dataset now that we have it\n",
    "\n",
    "    X_train, X_test, y_train, y_test = \\\n",
    "    train_test_split(\n",
    "        X, \n",
    "        y, \n",
    "        test_size=.20, \n",
    "        random_state=0\n",
    "    )\n",
    "\n",
    "    return X_train, X_test, y_train, y_test\n",
    "\n",
    "\n",
    "def read_mnist_data(file_path: str) -> np.array:\n",
    "    \"\"\"\n",
    "    Load numpy array of MNIST dataset from data.npy file\n",
    "    \n",
    "    :param file_path: string path to dataset \n",
    "    :return: numpy array representation of the mnist dataset and the labels dataset\n",
    "    \"\"\"\n",
    "\n",
    "    X = np.load(file_path + \"mnist_data.npy\") #Mnist dataset\n",
    "    y = np.load(file_path + \"mnist_labels.npy\") #Mnist labels dataset\n",
    "    return np.column_stack((X,y))"
   ]
  },
  {
   "cell_type": "markdown",
   "id": "8043a04d",
   "metadata": {},
   "source": [
    "\n",
    "b) \\[2 pts.\\] Try to classify the images using Logistic Regression. Have in mind that the dataset contains more than 2 labels, hence is a multinomial classification problem. What is your train accuracy and test accuracy?"
   ]
  },
  {
   "cell_type": "code",
   "execution_count": 103,
   "id": "41335ffc",
   "metadata": {},
   "outputs": [],
   "source": [
    "from sklearn.linear_model import LogisticRegression\n",
    "from sklearn.metrics import accuracy_score\n",
    "def logistic_regression_classify_mnist(dataset: np.array) -> Tuple[float, float]:\n",
    "    \"\"\"\n",
    "    Classify mnist dataset with logistic regression\n",
    "    \n",
    "    :param dataset: mnist dataset as np array\n",
    "    :return: train and test accuracy of the model\n",
    "    \"\"\"\n",
    "    X_train, X_test, y_train, y_test = split_mnist_data(X)\n",
    "\n",
    "    clf = LogisticRegression(random_state=0).fit(X_train, y_train)\n",
    "    # Y = clf.predict(X_test)\n",
    "\n",
    "    train_acc = clf.score(X_train, y_train)\n",
    "    test_acc = clf.score(X_test, y_test)\n",
    "\n",
    "\n",
    "    return train_acc, test_acc"
   ]
  },
  {
   "cell_type": "code",
   "execution_count": 104,
   "id": "81ec9ba9",
   "metadata": {},
   "outputs": [
    {
     "name": "stdout",
     "output_type": "stream",
     "text": [
      "Training Accuracy:  0.9596527777777778\n",
      "Testing Accuracy:  0.8813888888888889\n"
     ]
    },
    {
     "name": "stderr",
     "output_type": "stream",
     "text": [
      "/Users/chrisjr38/Desktop/cs506_hmwk/venv/lib/python3.9/site-packages/sklearn/linear_model/_logistic.py:814: ConvergenceWarning: lbfgs failed to converge (status=1):\n",
      "STOP: TOTAL NO. of ITERATIONS REACHED LIMIT.\n",
      "\n",
      "Increase the number of iterations (max_iter) or scale the data as shown in:\n",
      "    https://scikit-learn.org/stable/modules/preprocessing.html\n",
      "Please also refer to the documentation for alternative solver options:\n",
      "    https://scikit-learn.org/stable/modules/linear_model.html#logistic-regression\n",
      "  n_iter_i = _check_optimize_result(\n"
     ]
    }
   ],
   "source": [
    "dataset = read_mnist_data(\"./data/\")\n",
    "train_acc, test_acc = logistic_regression_classify_mnist(dataset)\n",
    "print(\"Training Accuracy: \", train_acc)\n",
    "print(\"Testing Accuracy: \", test_acc)"
   ]
  },
  {
   "cell_type": "markdown",
   "metadata": {},
   "source": [
    "Training Accuracy:  0.9589583333333334\n",
    "Testing Accuracy:  0.8825"
   ]
  },
  {
   "cell_type": "markdown",
   "id": "192450ad",
   "metadata": {},
   "source": [
    "c) \\[3 pts.\\] Now, try to classify the dataset using a k-Nearest Neighbor classifier. Plot the train and test accuracy as you vary k from 1 to 25 with a step size of 2.\n"
   ]
  },
  {
   "cell_type": "code",
   "execution_count": 105,
   "id": "a3651dee",
   "metadata": {},
   "outputs": [],
   "source": [
    "from sklearn.neighbors import KNeighborsClassifier\n",
    "import numpy as np\n",
    "import matplotlib.pyplot as plt\n",
    "\n",
    "def knn_iter_k(dataset:np.array, k_min: int = 1, k_max: int = 25, step:int = 2):\n",
    "    '''\n",
    "    Plot training and testing accuracy for KNN with varying values of k\n",
    "    :param dataset: MNIST daaset\n",
    "    :param k_min: k value to start at\n",
    "    :param k_max: k value to end at (inclusive)\n",
    "    :param step: step size\n",
    "    :return:\n",
    "    '''\n",
    "    # Loop through different values of k nearest neighbors\n",
    "\n",
    "\n",
    "    # Create k values for loop (increase k_max by step size to include it)\n",
    "    k_vals = np.arange(k_min,k_max+step, step)\n",
    "    train_accs = []\n",
    "    test_accs = []\n",
    "    for k in k_vals:\n",
    "        train_acc, test_acc = knn_classify_mnist(dataset, k)\n",
    "        train_accs.append(train_acc)\n",
    "        test_accs.append(test_acc)\n",
    "\n",
    "    plt.figure(1)\n",
    "    plt.plot(k_vals, train_accs ,'-bo')\n",
    "    plt.title(\"Training Accuracy from k=\" + str(k_min) + \" to k=\" + str(k_max))\n",
    "    plt.xlabel(\"k\")\n",
    "    plt.ylabel(\"Training Accuracy\")\n",
    "    plt.show()\n",
    "\n",
    "    plt.figure(2)\n",
    "    plt.plot(k_vals, test_accs,'-bo')\n",
    "    plt.title(\"Testing Accuracy from k=\" + str(k_min) + \" to k=\" + str(k_max))\n",
    "    plt.xlabel(\"k\")\n",
    "    plt.ylabel(\"Testing Accuracy\")\n",
    "    plt.show()\n",
    "\n",
    "\n",
    "    return\n",
    "    \n",
    "\n",
    "def knn_classify_mnist(dataset: np.array, k: int, train_size=\"full\")-> Tuple[float, float]:\n",
    "    \"\"\"\n",
    "    Classify mnist dataset with K-nearest neighbor\n",
    "    \n",
    "    :param dataset: mnist dataset in numpy format\n",
    "    :param k: value for K-nearest neighbors\n",
    "    :param train_size: \"Full\" to use the whole training set, another value to specify the number of points of the training set to us\n",
    "    :return: train and test accuracy of the model\n",
    "    \"\"\"\n",
    "\n",
    "    X_train, X_test, y_train, y_test = split_mnist_data(dataset)\n",
    "    \n",
    "    # Use specified number of training samples\n",
    "    if(train_size != \"full\"):\n",
    "        X_train = X_train[0:train_size]\n",
    "        y_train = y_train[0:train_size]\n",
    "\n",
    "    neigh = KNeighborsClassifier(n_neighbors=k).fit(X_train, y_train)\n",
    "    # Y = neigh.predict(X_test)\n",
    "    train_acc = neigh.score(X_train, y_train)\n",
    "    test_acc = neigh.score(X_test, y_test)\n",
    "\n",
    "    return train_acc, test_acc"
   ]
  },
  {
   "cell_type": "code",
   "execution_count": 106,
   "id": "0acd0e19",
   "metadata": {},
   "outputs": [
    {
     "data": {
      "image/png": "[encoded data removed]",
      "text/plain": [
       "<Figure size 432x288 with 1 Axes>"
      ]
     },
     "metadata": {
      "needs_background": "light"
     },
     "output_type": "display_data"
    },
    {
     "data": {
      "image/png": "[encoded data removed]",
      "text/plain": [
       "<Figure size 432x288 with 1 Axes>"
      ]
     },
     "metadata": {
      "needs_background": "light"
     },
     "output_type": "display_data"
    }
   ],
   "source": [
    "knn_iter_k(read_mnist_data(\"./data/\"), k_min=1, k_max=25, step=2)"
   ]
  },
  {
   "cell_type": "markdown",
   "id": "3bd366ec",
   "metadata": {},
   "source": [
    "d) \\[1 pt.\\] Explain your results.\n"
   ]
  },
  {
   "cell_type": "markdown",
   "id": "be963975",
   "metadata": {},
   "source": [
    "At k=1, we have the highest accuracy for testing and training. For the training data k=1 should always yield 100% accuracy since we are providing the same points KNN was trained on, therefore the nearest neighbor to the point will always be the same point that was originally provided and will always be 100%, no matter how much of the training set we use. As for the testing data, a low k makes sense, in our case using the random split of 0 gave us that k=1 was the best (although in some other tests k=2 provided the best result). The reason for this is due to the high dimenisonality of images. Because the dataset uses MNIST, points are very far from one another in general, and points are also a similar distance to one another, even if they are different classes, so simply choosing the very closest point haappens to yield the bestt results."
   ]
  },
  {
   "cell_type": "markdown",
   "id": "4289da5a",
   "metadata": {},
   "source": [
    "e) \\[5 pts.\\] Now use kNN to explore how a different sized train set affects your results. Plot the accuracy of your model when only using 3,000 of the images in the train set (repeat this experiment using 6,000, 9,000, and so on until you are using the full train set). Use whatever value of k you found that worked best in part (c). You will be doing something similar in Problem 3(d) so it makes sense to run both experiments at the same time."
   ]
  },
  {
   "cell_type": "code",
   "execution_count": 7,
   "id": "8daa59c9",
   "metadata": {},
   "outputs": [],
   "source": [
    "from sklearn.model_selection import train_test_split\n",
    "def sample_dataset(dataset: np.array, select_size: int) -> np.array:\n",
    "    \"\"\"\n",
    "    Randomly sample a certain size of the dataset\n",
    "    \n",
    "    :param select_size: the return size of dataset\n",
    "    :return: random subset of dataset\n",
    "    \"\"\"\n",
    "    X_train, X_test, y_train, y_test = split_mnist_data(X)\n",
    "    # Dataset already shuffled from split, so take first select_size points\n",
    "    X_train = X_train[0:select_size]\n",
    "    y_train = y_train[0:select_size]\n",
    "    return np.column_stack(X_train, y_train)\n",
    "\n",
    "\n",
    "def knn_experiment(dataset: np.array, train_min: int = 3000, step: int = 3000):\n",
    "    '''\n",
    "    Run Knn while iterating the size of the training set\n",
    "    :param dataset: MNIST dataset\n",
    "    :param train_min: training size to start with\n",
    "    :param step: step size to increase training size\n",
    "    :return: List of training accuracies and list of test accuracies and list of train sizes\n",
    "    '''\n",
    "\n",
    "    X_train, X_test, y_train, y_test = split_mnist_data(dataset)\n",
    "    #Finish when training size is at max\n",
    "    train_max = X_train.shape[0]\n",
    "    \n",
    "    # Generate values of training set sizes to pass to KNN\n",
    "    train_sizes = np.arange(train_min, train_max+step, step)\n",
    "    \n",
    "    train_accs = []\n",
    "    test_accs = []\n",
    "    for train_size in train_sizes:\n",
    "        train_acc, test_acc = knn_classify_mnist(dataset, k=1, train_size=train_size)\n",
    "        train_accs.append(train_acc)\n",
    "        test_accs.append(test_acc)\n",
    "        \n",
    "\n",
    "    return train_accs, test_accs, train_sizes\n",
    "    \n",
    "def plot_accuracies_over_train_sizes(train_accs: list, test_accs: list, train_sizes: list):\n",
    "    \"\"\"\n",
    "    Plot the accuracies over training size\n",
    "    \n",
    "    :param train_accs: list of train accuracies of the model\n",
    "    :param test_accs: list of test accuracies of the model\n",
    "    :param train_sizes: the list of training sizes in the experiment\n",
    "    :return: \n",
    "    \"\"\"\n",
    "    plt.figure(1)\n",
    "    plt.plot(train_sizes, train_accs,'-bo')\n",
    "    plt.title(\"Training Accuracy varying training set size\")\n",
    "    plt.xlabel(\"k\")\n",
    "    plt.ylabel(\"Training Accuracy\")\n",
    "    plt.show()\n",
    "\n",
    "    plt.figure(2)\n",
    "    plt.plot(train_sizes, test_accs,'-bo')\n",
    "    plt.title(\"Testing Accuracy varying training set size\")\n",
    "    plt.xlabel(\"k\")\n",
    "    plt.ylabel(\"Testing Accuracy\")\n",
    "    plt.show()\n",
    "\n",
    "    return"
   ]
  },
  {
   "cell_type": "code",
   "execution_count": 192,
   "id": "8cbfc422",
   "metadata": {},
   "outputs": [
    {
     "data": {
      "image/png": "[encoded data removed]",
      "text/plain": [
       "<Figure size 432x288 with 1 Axes>"
      ]
     },
     "metadata": {
      "needs_background": "light"
     },
     "output_type": "display_data"
    },
    {
     "data": {
      "image/png": "[encoded data removed]",
      "text/plain": [
       "<Figure size 432x288 with 1 Axes>"
      ]
     },
     "metadata": {
      "needs_background": "light"
     },
     "output_type": "display_data"
    }
   ],
   "source": [
    "train_accs, test_accs, train_sizes = knn_experiment(dataset = read_mnist_data(\"./data/\"), train_min=3000, step=3000)\n",
    "plot_accuracies_over_train_sizes(train_accs, test_accs,train_sizes)"
   ]
  },
  {
   "cell_type": "markdown",
   "metadata": {},
   "source": [
    "f) \\[2 pts.\\] Give a few bullet points explaining the pros and cons of these algorithms and when and why we use logistic regression over linear regression."
   ]
  },
  {
   "cell_type": "markdown",
   "metadata": {},
   "source": [
    "Firstly, we've already explored that linear regression is much more susceptible to \"outlier\" datapoints than logistic regression. In general, for classification problems, logistic regression should be used because of the this, and that it can output probabilities a pont is in a given class to give confidence that a point is in a given class. Linear regression should be used if the data is known to be linear, and not have outliers. Linear regression is mainly meaant to be used for estimating a linear function along independent variables, whereas logistic regression is meant to classify binary variables."
   ]
  },
  {
   "cell_type": "markdown",
   "id": "0df1a8a5",
   "metadata": {},
   "source": [
    "### PCA - Dimensionality Reduction\n",
    "\n",
    "The original dataset contains 28 ∗ 28 = 784 features. Therefore, we will try to reduce the dimension by using PCA.\n",
    "\n",
    "a) \\[1 pt.\\] Perform PCA decomposition, initially using all principal components. Before performing PCA you usually need to mean-center the data, [see here why](https://scikit-learn.org/stable/auto_examples/preprocessing/plot_scaling_importance.html), which means you have to calculate the mean of each variable (column) and subtract it from the respective column. However, many libraries perform this step implicitly, so consult the documentation of the library you are going to use (e.g. PCA of Sklearn)."
   ]
  },
  {
   "cell_type": "code",
   "execution_count": 8,
   "id": "f5ab67e8",
   "metadata": {},
   "outputs": [],
   "source": [
    "import numpy as np\n",
    "from sklearn.decomposition import PCA\n",
    "from typing import Optional\n",
    "def pca_decomposition(X: np.array, num_components: Optional[int] = None) -> np.array:\n",
    "    \"\"\"\n",
    "    Perform PCA decomposition over mnist dataset\n",
    "    \n",
    "    :param X: mnist dataset in numpy format *with no labels attached\n",
    "    :param num_components: number of components to reduce to. If None, use all of components\n",
    "    :return: transformed dataset and explained variance\n",
    "    \"\"\"\n",
    "    pca = PCA(n_components=num_components, random_state=0).fit(X)\n",
    "    return pca.transform(X), pca.explained_variance_\n"
   ]
  },
  {
   "cell_type": "code",
   "execution_count": 194,
   "id": "7a5b4a08",
   "metadata": {},
   "outputs": [],
   "source": [
    "X = read_mnist_data(\"./data/\")\n",
    "y = X[:,-1]\n",
    "X = np.delete(X, -1, axis=1) # Remove labels from dataset\n",
    "X_transformed, variance = pca_decomposition(X)"
   ]
  },
  {
   "cell_type": "markdown",
   "id": "d40b68d3",
   "metadata": {},
   "source": [
    "b) [2 pts.] Plot the CDF of the explained variance as a function of the number of principal components.\n"
   ]
  },
  {
   "cell_type": "code",
   "execution_count": 31,
   "id": "c57bfed4",
   "metadata": {},
   "outputs": [],
   "source": [
    "from scipy.stats import norm\n",
    "import matplotlib.pyplot as plt\n",
    "def plot_pca_cdf(X: np.array):\n",
    "    \"\"\"\n",
    "    Plot CDF of explained variance as a function of number of principal components\n",
    "    \n",
    "    :param X: MNIST dataset with no labels\n",
    "    :return: \n",
    "    \"\"\"\n",
    "    X_transformed, variance = pca_decomposition(X)\n",
    "    cdf = np.cumsum(variance)/np.sum(variance) # Calculate cdf from variance\n",
    "    n_components = np.linspace(1, 784, 784) # Create values to plot against\n",
    "    plt.plot(n_components,cdf)\n",
    "    plt.axvline(x=150, linestyle=\"--\", lw=1)\n",
    "    plt.axhline(y=1, linestyle=\"--\", lw=1)\n",
    "    plt.xlim(0, 784)\n",
    "    plt.title(\"CDF vs # Principle Components for MNIST\")\n",
    "    plt.xlabel(\"# Principle Components\")\n",
    "    plt.ylabel(\"CDF\")\n",
    "\n",
    "\n",
    "\n",
    "\n",
    "\n",
    "\n",
    "    return"
   ]
  },
  {
   "cell_type": "code",
   "execution_count": 32,
   "metadata": {},
   "outputs": [
    {
     "data": {
      "image/png": "[encoded data removed]",
      "text/plain": [
       "<Figure size 432x288 with 1 Axes>"
      ]
     },
     "metadata": {
      "needs_background": "light"
     },
     "output_type": "display_data"
    }
   ],
   "source": [
    "X = read_mnist_data(\"./data/\")\n",
    "y = X[:,-1]\n",
    "X = np.delete(X, -1, axis=1) # Remove labels from dataset\n",
    "plot_pca_cdf(X)"
   ]
  },
  {
   "cell_type": "markdown",
   "id": "8305ed32",
   "metadata": {},
   "source": [
    "c) [1 pt.] Choose a number of principal components to use by arguing why your choice is reasonable as a trade-off between the number of components used and classification performance. Afterwards, train a kNN classifier (choose a k that gave you the best results in Problem 2c.) and report train and test accuracy.\n"
   ]
  },
  {
   "cell_type": "markdown",
   "metadata": {},
   "source": [
    "The number of principle components I'll be using is 150. Around 100 is when it reaches a point of slowing down how much each new component contributes to explaining the dataset. Since there is still a bit of noticable increase up to aabout 150 (as marked), so I decided to use 150. For KNN, k=1 will be used again as in Problem 2."
   ]
  },
  {
   "cell_type": "code",
   "execution_count": 10,
   "id": "e7b07433",
   "metadata": {},
   "outputs": [],
   "source": [
    "import time\n",
    "import numpy as np\n",
    "from sklearn.decomposition import PCA\n",
    "def knn_classify_mnist_with_pca(dataset: np.array, k: int, num_components: int) -> Tuple[float, float]:\n",
    "    \"\"\"\n",
    "    Classify mnist dataset with K-nearest neighbor\n",
    "    \n",
    "    :param dataset: mnist dataset in numpy format\n",
    "    :param k: number of nearest neighbors\n",
    "    :param num_components: number of components to keep after PCA\n",
    "    :param train_size: size of training set to use, default \"full\" uses all\n",
    "    return: train and test accuracy of the model\n",
    "    \"\"\"\n",
    "    y = dataset[:,-1] # Grab labels\n",
    "    X = np.delete(dataset, -1, axis=1) # Remove labels from dataset\n",
    "    X_train, X_test, y_train, y_test = split_mnist_data(dataset)\n",
    "\n",
    "    # Perform PCA\n",
    "    pca = PCA(n_components=num_components, random_state=0).fit(X)\n",
    "    X_train = pca.transform(X_train)\n",
    "    X_test = pca.transform(X_test)\n",
    "\n",
    "\n",
    "    neigh = KNeighborsClassifier(n_neighbors=k).fit(X_train, y_train)\n",
    "    # Y = neigh.predict(X_test)\n",
    "    train_acc = neigh.score(X_train, y_train)\n",
    "    test_acc = neigh.score(X_test, y_test)\n",
    "\n",
    "    return train_acc, test_acc"
   ]
  },
  {
   "cell_type": "code",
   "execution_count": 17,
   "id": "d6a22f5e",
   "metadata": {},
   "outputs": [
    {
     "name": "stdout",
     "output_type": "stream",
     "text": [
      "1.0\n",
      "0.9619444444444445\n"
     ]
    }
   ],
   "source": [
    "train_acc, test_acc = knn_classify_mnist_with_pca(read_mnist_data(\"./data/\"),k=1,num_components=150)\n",
    "print(train_acc)\n",
    "print(test_acc)"
   ]
  },
  {
   "cell_type": "markdown",
   "metadata": {},
   "source": [
    "Training Accuracy:  1.0 / 100%\n",
    "Testing Accuracy:  0.9619444444444445 / 96.19%"
   ]
  },
  {
   "cell_type": "markdown",
   "id": "dd7687c7",
   "metadata": {},
   "source": [
    "d) [5 pts.] For this part we will perform the following experiment: First, randomly sample a part of your dataset (using a fixed k and all features), of size ranging from 3,000 to 21,000 (the whole dataset) in increments of 3,000. Fit a kNN classifier and plot the running time.\n",
    "Now, use a fixed k and all samples of your dataset, but fit a kNN classifier using a varying number of Principal Components, ranging from 50 to 750 in increments of 100. Plot the running time on the same plot as above.\n",
    "\n",
    "Describe the plot. What seems to affect -as a trend- the fitting time more? Number of samples used for trying, or the dimensions of the data?\n",
    "\n",
    "-Python’s time package may be useful for this problem.\n"
   ]
  },
  {
   "cell_type": "code",
   "execution_count": 11,
   "id": "f76ec967",
   "metadata": {},
   "outputs": [],
   "source": [
    "def train_size_experiment(dataset=np.array):\n",
    "    \"\"\"\n",
    "    Experiment classifying mnist with different training size\n",
    "    \n",
    "    :param dataset: mnist dataset\n",
    "    :return train_sizes, times: list of training sizes used and the times to classify using each\n",
    "    \"\"\"\n",
    "\n",
    "    train_max = split_mnist_data(dataset)[0].shape[0] # Max size of training data\n",
    "    # Finish when training size is at max\n",
    "    train_min = 3000\n",
    "    #Step size\n",
    "    step = 3000\n",
    "    # Generate values of training set sizes to pass to KNN\n",
    "    train_sizes = np.arange(train_min, train_max+step, step)\n",
    "    \n",
    "    times = []\n",
    "    for train_size in train_sizes:\n",
    "        start = time.time()\n",
    "        knn_classify_mnist(dataset,k=1, train_size=train_size)\n",
    "        end = time.time()\n",
    "        times.append(end-start)\n",
    "    times = [round(time,2) for time in times] # Round times to two decimal places\n",
    "    return train_sizes, times\n",
    "    \n",
    "def num_component_experiment(dataset=np.array) :\n",
    "    \"\"\"\n",
    "    Experiment classifying mnist with different number of top principal components\n",
    "    \n",
    "    :param dataset: mnist dataset\n",
    "    :return train_sizes, times: list of training sizes used and the times to classify using each\n",
    "    \"\"\"\n",
    "\n",
    "\n",
    "    min_components = 50\n",
    "    max_components = 750\n",
    "    step = 100\n",
    "\n",
    "    component_sizes = np.arange(min_components, max_components+step, step)\n",
    "    \n",
    "    times = []\n",
    "    for component_size in component_sizes:\n",
    "        start = time.time()\n",
    "        knn_classify_mnist_with_pca(dataset=dataset,k=1,num_components=component_size)\n",
    "        end = time.time()\n",
    "        times.append(end-start)\n",
    "    times = [round(time,2) for time in times] # Round times to two decimal places\n",
    "    \n",
    "\n",
    "    return component_sizes, times\n",
    "\n",
    "def plot_times(train_sizes, component_sizes, train_size_times,component_times):\n",
    "    '''\n",
    "    Plot time to classify with varying number off components with PCA and different training sizes\n",
    "    '''\n",
    "    fig = plt.figure(figsize=(8,6))\n",
    "    ax1 = fig.add_subplot(111)\n",
    "    ax1.plot(train_sizes, train_size_times, \"-bo\",label=\"Varied Training Size\")\n",
    "    ax1.legend(loc='lower right')\n",
    "    ax1.set_xlabel(\"Training Set Size\")\n",
    "    ax1.set_ylabel(\"Classification Time (s)\")\n",
    "    ax2 = ax1.twiny()\n",
    "    ax2.set_xlabel(\"Number of Components\")\n",
    "    ax2.plot(component_sizes, component_times, \"-ro\",label=\"Varied # Components\")\n",
    "    ax2.legend(loc='upper left')\n",
    "    \n",
    "    plt.title(\"Varying training size and #PCA Components for KNN Classification\")\n",
    "    plt.show()\n",
    "    return"
   ]
  },
  {
   "cell_type": "code",
   "execution_count": 42,
   "id": "4ffdaa32",
   "metadata": {},
   "outputs": [
    {
     "name": "stdout",
     "output_type": "stream",
     "text": [
      "[ 3000  6000  9000 12000 15000]\n",
      "[0.69, 1.88, 3.61, 5.36, 8.6]\n",
      "[ 50 150 250 350 450 550 650 750]\n",
      "[5.82, 5.84, 6.84, 7.76, 9.25, 10.35, 8.56, 8.78]\n"
     ]
    },
    {
     "data": {
      "image/png": "[encoded data removed]",
      "text/plain": [
       "<Figure size 576x432 with 2 Axes>"
      ]
     },
     "metadata": {
      "needs_background": "light"
     },
     "output_type": "display_data"
    }
   ],
   "source": [
    "dataset = read_mnist_data(\"./data/\")\n",
    "train_sizes, train_size_times = train_size_experiment(dataset)\n",
    "print(train_sizes) # If train_size > size of training data, it simply takes the whole array which is what is needed\n",
    "print(train_size_times)\n",
    "component_sizes, component_times = num_component_experiment(dataset)\n",
    "print(component_sizes)\n",
    "print(component_times)\n",
    "plot_times(train_sizes, component_sizes, train_size_times,component_times)"
   ]
  },
  {
   "cell_type": "markdown",
   "id": "6c815e2f",
   "metadata": {},
   "source": [
    "e) [3 pts.] Using your results from the previous question, produce the most accurate model you can on the condition that it is faster than 50% of the models you tested. List the values chosen for: k, number of samples, and number of principal components. How does this model compare to your most accurate model (the best model you created when time wasn’t a factor)?\n"
   ]
  },
  {
   "cell_type": "code",
   "execution_count": 38,
   "metadata": {},
   "outputs": [],
   "source": [
    "def fast_model(dataset: np.array) -> Tuple[float, float]:\n",
    "    \"\"\"\n",
    "    Classify using a model that is 50% faster than the others tested\n",
    "\n",
    "    :param dataset: mnist dataset in numpy format\n",
    "    :return: testing accuracy and running time of model\n",
    "    \"\"\"\n",
    "    # start = time.time()\n",
    "\n",
    "    training_size = 12000\n",
    "    k = 1\n",
    "    num_components = 150\n",
    "    y = dataset[:,-1] # Grab labels\n",
    "    X = np.delete(dataset, -1, axis=1) # Remove labels from dataset\n",
    "    X_train, X_test, y_train, y_test = split_mnist_data(dataset)\n",
    "    \n",
    "    # pca\n",
    "    pca = PCA(n_components=num_components, random_state=0).fit(X)\n",
    "    X_train = pca.transform(X_train)\n",
    "    X_test = pca.transform(X_test)\n",
    "\n",
    "    #KNN\n",
    "    neigh = KNeighborsClassifier(n_neighbors=k).fit(X_train, y_train)\n",
    "\n",
    "\n",
    "    # Classify and find testing accuracy\n",
    "    start = time.time()\n",
    "    test_acc = neigh.score(X_test, y_test)\n",
    "    end = time.time()\n",
    "    runtime = end - start\n",
    "\n",
    "\n",
    "\n",
    "    return test_acc , runtime\n",
    "    "
   ]
  },
  {
   "cell_type": "code",
   "execution_count": 39,
   "id": "b9f56283",
   "metadata": {},
   "outputs": [
    {
     "name": "stdout",
     "output_type": "stream",
     "text": [
      "(0.9619444444444445, 0.9315550327301025)\n"
     ]
    }
   ],
   "source": [
    "print(fast_model(dataset = read_mnist_data(\"./data/\")))"
   ]
  },
  {
   "cell_type": "markdown",
   "metadata": {},
   "source": [
    "Using k=1, 150 Principle Components, and Training Size of 12000, I achieved accuracy of 96.19% and runtime of .93s, faster than all the models plotted in the previous problems but one, starting the timer before classification begins and after preprocessing. If I start the time before preprocessing, as soon as the function is called, it runs in 2.73s, still faster than all but 2 models tested in the previous problem."
   ]
  },
  {
   "cell_type": "markdown",
   "id": "21f4886d",
   "metadata": {},
   "source": [
    "f) [1 pt.] Bonus point: Plot the images of the 10 first Principal Components. That is, plot the image approximation using each principle component."
   ]
  },
  {
   "cell_type": "code",
   "execution_count": 2,
   "id": "9cbe3924",
   "metadata": {},
   "outputs": [],
   "source": [
    "def plot_components(top_components: int):\n",
    "    \"\"\"\n",
    "    Plot top 10 principal components\n",
    "    \n",
    "    :param top_components: number of top components to plot\n",
    "    :return: \n",
    "    \"\"\"\n",
    "    dataset = read_mnist_data(\"./data/\")\n",
    "    y = dataset[:,-1] # Grab labels\n",
    "    X = np.delete(dataset, -1, axis=1) # Remove labels from dataset\n",
    "    X_train, X_test, y_train, y_test = split_mnist_data(dataset)\n",
    "\n",
    "    # Perform PCA\n",
    "    plt.subplot(1,2,1)\n",
    "    plt.axis('off')\n",
    "    plt.title(\"Original Image\")\n",
    "    pca = PCA(n_components=top_components, random_state=0).fit(X)\n",
    "    reconstruction = pca.inverse_transform(pca.transform(X))[0]\n",
    "    plt.imshow(X[0].reshape(28,28), cmap='gray')\n",
    "    plt.subplot(1,2,2)\n",
    "    plt.axis('off')\n",
    "    plt.title(\"Top 10 Principle \\n Components Reconstructed\")\n",
    "    # plt.imshow(reconstruction.reshape(28,28), cmap='gray')\n",
    "    plt.imshow(pca.components_[0].reshape(28,28), cmap='gray')\n",
    "\n",
    "    plt.subplot(2,2,1)\n",
    "    plt.axis('off')\n",
    "    plt.title(\"Original Image\")\n",
    "    plt.imshow(X[1].reshape(28,28), cmap='gray')\n",
    "    plt.subplot(2,2,2)\n",
    "    plt.axis('off')\n",
    "    plt.title(\"Top 10 Principle \\n Components Reconstructed\")\n",
    "    # plt.imshow(reconstruction.reshape(28,28), cmap='gray')\n",
    "    plt.imshow(pca.components_[1].reshape(28,28), cmap='gray')\n",
    "\n",
    "    return"
   ]
  },
  {
   "cell_type": "code",
   "execution_count": 75,
   "id": "52243b57",
   "metadata": {},
   "outputs": [
    {
     "data": {
      "image/png": "[encoded data removed]",
      "text/plain": [
       "<Figure size 432x288 with 2 Axes>"
      ]
     },
     "metadata": {
      "needs_background": "light"
     },
     "output_type": "display_data"
    }
   ],
   "source": [
    "plot_components(top_components=10)"
   ]
  }
 ],
 "metadata": {
  "interpreter": {
   "hash": "7ec666543b986872625686d6233c7e1b62932cceaa7556553c67b8fdc38405b0"
  },
  "kernelspec": {
   "display_name": "Python 3.9.7 64-bit ('venv': venv)",
   "name": "python3"
  },
  "language_info": {
   "codemirror_mode": {
    "name": "ipython",
    "version": 3
   },
   "file_extension": ".py",
   "mimetype": "text/x-python",
   "name": "python",
   "nbconvert_exporter": "python",
   "pygments_lexer": "ipython3",
   "version": "3.9.7"
  }
 },
 "nbformat": 4,
 "nbformat_minor": 5
}
